{
 "cells": [
  {
   "cell_type": "code",
   "execution_count": 1,
   "id": "d694d4a9-b852-417f-ac86-24f16b7375f7",
   "metadata": {},
   "outputs": [],
   "source": [
    "import pandas as pd\n",
    "import numpy as np\n",
    "import matplotlib.pyplot as plt\n",
    "import seaborn as sns"
   ]
  },
  {
   "cell_type": "code",
   "execution_count": 2,
   "id": "b9e48988-35ba-42aa-b357-743c128140b0",
   "metadata": {},
   "outputs": [],
   "source": [
    "mentalhealth_df = pd.read_csv('/home/student/Documents/datasets/patient-characteristics-survey-pcs-2017-1.csv')"
   ]
  },
  {
   "cell_type": "markdown",
   "id": "5a89b244-15fb-4f89-b9b1-3374ae09dc91",
   "metadata": {},
   "source": [
    "# Dataset Overview\n",
    "\n",
    "The **Patient Characteristics Survey (PCS): 2017** dataset contains demographic information about clients served by mental health providers during a specific survey week in 2017. This dataset helps in analyzing demographic trends, identifying service gaps, and ensuring equitable access to mental health services.\n",
    "\n",
    "## Column Definitions\n",
    "\n",
    "- **Sex**: Gender of the client (Male, Female, Unknown).\n",
    "- **Transgender Status**: Whether the client is transgender (No, Yes, Unknown).\n",
    "- **Age**: Age group of the client (Child, Adult, Unknown).\n",
    "- **Race**: Client's racial identity (White, Black, Multi-racial, Other, Unknown).\n",
    "- **Ethnicity**: Ethnic background of the client (Non-Hispanic, Hispanic, Client Did Not Answer, Unknown).\n",
    "- **Region of Provider**: Specific region where the service provider is located.\n",
    "\n",
    "## Key Insights\n",
    "\n",
    "- The dataset reveals demographic disparities in mental health service utilization.\n",
    "- A significant portion of data may have missing or \"Unknown\" values, indicating gaps in data collection.\n",
    "- Insights from this dataset can guide policy-making and resource allocation to better serve underrepresented groups.\n"
   ]
  },
  {
   "cell_type": "code",
   "execution_count": 3,
   "id": "2b04eda5-fe4e-4c70-a72f-bbf5b23b46f9",
   "metadata": {},
   "outputs": [
    {
     "name": "stdout",
     "output_type": "stream",
     "text": [
      "<class 'pandas.core.frame.DataFrame'>\n",
      "RangeIndex: 187192 entries, 0 to 187191\n",
      "Data columns (total 67 columns):\n",
      " #   Column                            Non-Null Count   Dtype \n",
      "---  ------                            --------------   ----- \n",
      " 0   Survey Year                       187192 non-null  int64 \n",
      " 1   Program Category                  187192 non-null  object\n",
      " 2   Region Served                     187192 non-null  object\n",
      " 3   Age Group                         187192 non-null  object\n",
      " 4   Sex                               187192 non-null  object\n",
      " 5   Transgender                       187192 non-null  object\n",
      " 6   Sexual Orientation                187192 non-null  object\n",
      " 7   Hispanic Ethnicity                187192 non-null  object\n",
      " 8   Race                              187192 non-null  object\n",
      " 9   Living Situation                  187192 non-null  object\n",
      " 10  Household Composition             187192 non-null  object\n",
      " 11  Preferred Language                187192 non-null  object\n",
      " 12  Veteran Status                    187192 non-null  object\n",
      " 13  Employment Status                 187192 non-null  object\n",
      " 14  Number Of Hours Worked Each Week  187192 non-null  object\n",
      " 15  Education Status                  187192 non-null  object\n",
      " 16  Special Education Services        187192 non-null  object\n",
      " 17  Mental Illness                    187192 non-null  object\n",
      " 18  Intellectual Disability           187192 non-null  object\n",
      " 19  Autism Spectrum                   187192 non-null  object\n",
      " 20  Other Developmental Disability    187192 non-null  object\n",
      " 21  Alcohol Related Disorder          187192 non-null  object\n",
      " 22  Drug Substance Disorder           187192 non-null  object\n",
      " 23  Mobility Impairment Disorder      187192 non-null  object\n",
      " 24  Hearing Visual Impairment         187192 non-null  object\n",
      " 25  Hyperlipidemia                    187192 non-null  object\n",
      " 26  High Blood Pressure               187192 non-null  object\n",
      " 27  Diabetes                          187192 non-null  object\n",
      " 28  Obesity                           187192 non-null  object\n",
      " 29  Heart Attack                      187192 non-null  object\n",
      " 30  Stroke                            187192 non-null  object\n",
      " 31  Other Cardiac                     187192 non-null  object\n",
      " 32  Pulmonary Asthma                  187192 non-null  object\n",
      " 33  Alzheimer or Dementia             187192 non-null  object\n",
      " 34  Kidney Disease                    187192 non-null  object\n",
      " 35  Liver Disease                     187192 non-null  object\n",
      " 36  Endocrine Condition               187192 non-null  object\n",
      " 37  Neurological Condition            187192 non-null  object\n",
      " 38  Traumatic Brain Injury            187192 non-null  object\n",
      " 39  Joint Disease                     187192 non-null  object\n",
      " 40  Cancer                            187192 non-null  object\n",
      " 41  Other Chronic Med Condition       187192 non-null  object\n",
      " 42  No Chronic Med Condition          187192 non-null  object\n",
      " 43  Unknown Chronic Med Condition     187192 non-null  object\n",
      " 44  Smokes                            187192 non-null  object\n",
      " 45  Received Smoking Medication       187192 non-null  object\n",
      " 46  Received Smoking Counseling       187192 non-null  object\n",
      " 47  Serious Mental Illness            187192 non-null  object\n",
      " 48  Principal Diagnosis Class         187192 non-null  object\n",
      " 49  Additional Diagnosis Class        187192 non-null  object\n",
      " 50  SSI Cash Assistance               187192 non-null  object\n",
      " 51  SSDI Cash Assistance              187192 non-null  object\n",
      " 52  Veterans Disability Benefits      187192 non-null  object\n",
      " 53  Veterans Cash Assistance          187192 non-null  object\n",
      " 54  Public Assistance Cash Program    187192 non-null  object\n",
      " 55  Other Cash Benefits               187192 non-null  object\n",
      " 56  Medicaid and Medicare Insurance   187192 non-null  object\n",
      " 57  Unknown Insurance Coverage        187192 non-null  object\n",
      " 58  No Insurance                      187192 non-null  object\n",
      " 59  Medicaid Insurance                187192 non-null  object\n",
      " 60  Medicaid Managed Insurance        187192 non-null  object\n",
      " 61  Medicare Insurance                187192 non-null  object\n",
      " 62  Private Insurance                 187192 non-null  object\n",
      " 63  Child Health Plus Insurance       187192 non-null  object\n",
      " 64  Other Insurance                   187192 non-null  object\n",
      " 65  Criminal Justice Status           187192 non-null  object\n",
      " 66  Three Digit Residence Zip Code    187192 non-null  int64 \n",
      "dtypes: int64(2), object(65)\n",
      "memory usage: 95.7+ MB\n"
     ]
    }
   ],
   "source": [
    "mentalhealth_df.info()"
   ]
  },
  {
   "cell_type": "code",
   "execution_count": 4,
   "id": "20c535f2-68f7-4d3e-949a-9a97e80c509a",
   "metadata": {},
   "outputs": [
    {
     "data": {
      "text/html": [
       "<div>\n",
       "<style scoped>\n",
       "    .dataframe tbody tr th:only-of-type {\n",
       "        vertical-align: middle;\n",
       "    }\n",
       "\n",
       "    .dataframe tbody tr th {\n",
       "        vertical-align: top;\n",
       "    }\n",
       "\n",
       "    .dataframe thead th {\n",
       "        text-align: right;\n",
       "    }\n",
       "</style>\n",
       "<table border=\"1\" class=\"dataframe\">\n",
       "  <thead>\n",
       "    <tr style=\"text-align: right;\">\n",
       "      <th></th>\n",
       "      <th>Survey Year</th>\n",
       "      <th>Program Category</th>\n",
       "      <th>Region Served</th>\n",
       "      <th>Age Group</th>\n",
       "      <th>Sex</th>\n",
       "      <th>Transgender</th>\n",
       "      <th>Sexual Orientation</th>\n",
       "      <th>Hispanic Ethnicity</th>\n",
       "      <th>Race</th>\n",
       "      <th>Living Situation</th>\n",
       "      <th>...</th>\n",
       "      <th>Unknown Insurance Coverage</th>\n",
       "      <th>No Insurance</th>\n",
       "      <th>Medicaid Insurance</th>\n",
       "      <th>Medicaid Managed Insurance</th>\n",
       "      <th>Medicare Insurance</th>\n",
       "      <th>Private Insurance</th>\n",
       "      <th>Child Health Plus Insurance</th>\n",
       "      <th>Other Insurance</th>\n",
       "      <th>Criminal Justice Status</th>\n",
       "      <th>Three Digit Residence Zip Code</th>\n",
       "    </tr>\n",
       "  </thead>\n",
       "  <tbody>\n",
       "    <tr>\n",
       "      <th>0</th>\n",
       "      <td>2017</td>\n",
       "      <td>OUTPATIENT</td>\n",
       "      <td>CENTRAL NY REGION</td>\n",
       "      <td>ADULT</td>\n",
       "      <td>FEMALE</td>\n",
       "      <td>NO, NOT TRANSGENDER</td>\n",
       "      <td>STRAIGHT OR HETEROSEXUAL</td>\n",
       "      <td>NO, NOT HISPANIC/LATINO</td>\n",
       "      <td>WHITE ONLY</td>\n",
       "      <td>PRIVATE RESIDENCE</td>\n",
       "      <td>...</td>\n",
       "      <td>NO</td>\n",
       "      <td>NO</td>\n",
       "      <td>YES</td>\n",
       "      <td>YES</td>\n",
       "      <td>NO</td>\n",
       "      <td>NO</td>\n",
       "      <td>NO</td>\n",
       "      <td>NO</td>\n",
       "      <td>NO</td>\n",
       "      <td>132</td>\n",
       "    </tr>\n",
       "    <tr>\n",
       "      <th>1</th>\n",
       "      <td>2017</td>\n",
       "      <td>SUPPORT</td>\n",
       "      <td>WESTERN REGION</td>\n",
       "      <td>ADULT</td>\n",
       "      <td>FEMALE</td>\n",
       "      <td>NO, NOT TRANSGENDER</td>\n",
       "      <td>UNKNOWN</td>\n",
       "      <td>NO, NOT HISPANIC/LATINO</td>\n",
       "      <td>WHITE ONLY</td>\n",
       "      <td>PRIVATE RESIDENCE</td>\n",
       "      <td>...</td>\n",
       "      <td>NO</td>\n",
       "      <td>NO</td>\n",
       "      <td>YES</td>\n",
       "      <td>UNKNOWN</td>\n",
       "      <td>YES</td>\n",
       "      <td>NO</td>\n",
       "      <td>NO</td>\n",
       "      <td>NO</td>\n",
       "      <td>UNKNOWN</td>\n",
       "      <td>146</td>\n",
       "    </tr>\n",
       "    <tr>\n",
       "      <th>2</th>\n",
       "      <td>2017</td>\n",
       "      <td>OUTPATIENT</td>\n",
       "      <td>CENTRAL NY REGION</td>\n",
       "      <td>ADULT</td>\n",
       "      <td>FEMALE</td>\n",
       "      <td>NO, NOT TRANSGENDER</td>\n",
       "      <td>STRAIGHT OR HETEROSEXUAL</td>\n",
       "      <td>NO, NOT HISPANIC/LATINO</td>\n",
       "      <td>WHITE ONLY</td>\n",
       "      <td>PRIVATE RESIDENCE</td>\n",
       "      <td>...</td>\n",
       "      <td>NO</td>\n",
       "      <td>NO</td>\n",
       "      <td>YES</td>\n",
       "      <td>NO</td>\n",
       "      <td>NO</td>\n",
       "      <td>NO</td>\n",
       "      <td>NO</td>\n",
       "      <td>NO</td>\n",
       "      <td>NO</td>\n",
       "      <td>131</td>\n",
       "    </tr>\n",
       "    <tr>\n",
       "      <th>3</th>\n",
       "      <td>2017</td>\n",
       "      <td>OUTPATIENT</td>\n",
       "      <td>NEW YORK CITY REGION</td>\n",
       "      <td>ADULT</td>\n",
       "      <td>FEMALE</td>\n",
       "      <td>NO, NOT TRANSGENDER</td>\n",
       "      <td>STRAIGHT OR HETEROSEXUAL</td>\n",
       "      <td>NO, NOT HISPANIC/LATINO</td>\n",
       "      <td>WHITE ONLY</td>\n",
       "      <td>PRIVATE RESIDENCE</td>\n",
       "      <td>...</td>\n",
       "      <td>NO</td>\n",
       "      <td>NO</td>\n",
       "      <td>YES</td>\n",
       "      <td>NO</td>\n",
       "      <td>YES</td>\n",
       "      <td>NO</td>\n",
       "      <td>NO</td>\n",
       "      <td>NO</td>\n",
       "      <td>NO</td>\n",
       "      <td>112</td>\n",
       "    </tr>\n",
       "    <tr>\n",
       "      <th>4</th>\n",
       "      <td>2017</td>\n",
       "      <td>OUTPATIENT</td>\n",
       "      <td>CENTRAL NY REGION</td>\n",
       "      <td>ADULT</td>\n",
       "      <td>MALE</td>\n",
       "      <td>NO, NOT TRANSGENDER</td>\n",
       "      <td>STRAIGHT OR HETEROSEXUAL</td>\n",
       "      <td>NO, NOT HISPANIC/LATINO</td>\n",
       "      <td>WHITE ONLY</td>\n",
       "      <td>PRIVATE RESIDENCE</td>\n",
       "      <td>...</td>\n",
       "      <td>YES</td>\n",
       "      <td>NO</td>\n",
       "      <td>NO</td>\n",
       "      <td>NOT APPLICABLE</td>\n",
       "      <td>NO</td>\n",
       "      <td>NO</td>\n",
       "      <td>NO</td>\n",
       "      <td>NO</td>\n",
       "      <td>NO</td>\n",
       "      <td>130</td>\n",
       "    </tr>\n",
       "  </tbody>\n",
       "</table>\n",
       "<p>5 rows × 67 columns</p>\n",
       "</div>"
      ],
      "text/plain": [
       "   Survey Year Program Category         Region Served Age Group     Sex  \\\n",
       "0         2017       OUTPATIENT     CENTRAL NY REGION     ADULT  FEMALE   \n",
       "1         2017          SUPPORT        WESTERN REGION     ADULT  FEMALE   \n",
       "2         2017       OUTPATIENT     CENTRAL NY REGION     ADULT  FEMALE   \n",
       "3         2017       OUTPATIENT  NEW YORK CITY REGION     ADULT  FEMALE   \n",
       "4         2017       OUTPATIENT     CENTRAL NY REGION     ADULT    MALE   \n",
       "\n",
       "           Transgender        Sexual Orientation       Hispanic Ethnicity  \\\n",
       "0  NO, NOT TRANSGENDER  STRAIGHT OR HETEROSEXUAL  NO, NOT HISPANIC/LATINO   \n",
       "1  NO, NOT TRANSGENDER                   UNKNOWN  NO, NOT HISPANIC/LATINO   \n",
       "2  NO, NOT TRANSGENDER  STRAIGHT OR HETEROSEXUAL  NO, NOT HISPANIC/LATINO   \n",
       "3  NO, NOT TRANSGENDER  STRAIGHT OR HETEROSEXUAL  NO, NOT HISPANIC/LATINO   \n",
       "4  NO, NOT TRANSGENDER  STRAIGHT OR HETEROSEXUAL  NO, NOT HISPANIC/LATINO   \n",
       "\n",
       "         Race   Living Situation  ... Unknown Insurance Coverage No Insurance  \\\n",
       "0  WHITE ONLY  PRIVATE RESIDENCE  ...                         NO           NO   \n",
       "1  WHITE ONLY  PRIVATE RESIDENCE  ...                         NO           NO   \n",
       "2  WHITE ONLY  PRIVATE RESIDENCE  ...                         NO           NO   \n",
       "3  WHITE ONLY  PRIVATE RESIDENCE  ...                         NO           NO   \n",
       "4  WHITE ONLY  PRIVATE RESIDENCE  ...                        YES           NO   \n",
       "\n",
       "  Medicaid Insurance Medicaid Managed Insurance Medicare Insurance  \\\n",
       "0                YES                        YES                 NO   \n",
       "1                YES                    UNKNOWN                YES   \n",
       "2                YES                         NO                 NO   \n",
       "3                YES                         NO                YES   \n",
       "4                 NO             NOT APPLICABLE                 NO   \n",
       "\n",
       "  Private Insurance Child Health Plus Insurance Other Insurance  \\\n",
       "0                NO                          NO              NO   \n",
       "1                NO                          NO              NO   \n",
       "2                NO                          NO              NO   \n",
       "3                NO                          NO              NO   \n",
       "4                NO                          NO              NO   \n",
       "\n",
       "  Criminal Justice Status Three Digit Residence Zip Code  \n",
       "0                      NO                            132  \n",
       "1                 UNKNOWN                            146  \n",
       "2                      NO                            131  \n",
       "3                      NO                            112  \n",
       "4                      NO                            130  \n",
       "\n",
       "[5 rows x 67 columns]"
      ]
     },
     "execution_count": 4,
     "metadata": {},
     "output_type": "execute_result"
    }
   ],
   "source": [
    "mentalhealth_df.head()"
   ]
  },
  {
   "cell_type": "markdown",
   "id": "a74c6eda-4ade-4e9a-84c5-773bb491c3a5",
   "metadata": {},
   "source": [
    "# Data Cleaning"
   ]
  },
  {
   "cell_type": "markdown",
   "id": "91d26986-473c-4779-b741-dff2d25cb43e",
   "metadata": {},
   "source": [
    "# Dropping the three digit residence zip code so that I can focus on more detailed or relevant location data, which can lead to more accurate insights."
   ]
  },
  {
   "cell_type": "code",
   "execution_count": 5,
   "id": "135cd363-2121-4202-96b2-4a738f44c6bd",
   "metadata": {},
   "outputs": [],
   "source": [
    "mentalhealth_df.drop(columns=['Three Digit Residence Zip Code'], inplace=True)"
   ]
  },
  {
   "cell_type": "markdown",
   "id": "080ab327-ff0c-4e4a-90dc-ab514be2151c",
   "metadata": {},
   "source": [
    "# Dropping household_composition column because it contains alot of unknown values"
   ]
  },
  {
   "cell_type": "code",
   "execution_count": 19,
   "id": "b49a77d0-1f0d-4f5e-92d0-56f4c50226dd",
   "metadata": {},
   "outputs": [],
   "source": [
    "mentalhealth_df.drop(columns=['household_composition'], inplace=True)"
   ]
  },
  {
   "cell_type": "markdown",
   "id": "6b137f60-b8a4-41e4-b628-15484d98b011",
   "metadata": {},
   "source": [
    "# Dropping the No Insurance Column because the dataset already has detailed information on different types of insurance coverage, a separate column for \"no insurance\" might be redundant.Also very few people fall into this category, making it less useful for analysis."
   ]
  },
  {
   "cell_type": "markdown",
   "id": "b0823ba7-37d6-47ec-99c2-cc32f5967e09",
   "metadata": {},
   "source": [
    "# Dropping the unknown_insurance_coverage column because it contains ambiguous or missing information that doesn't contribute useful insights. Since it doesn't clarify whether individuals have coverage, it might not be valuable for analysis."
   ]
  },
  {
   "cell_type": "code",
   "execution_count": 20,
   "id": "a0a88a29-2edc-44a0-8d78-cedbc34253db",
   "metadata": {},
   "outputs": [],
   "source": [
    "mentalhealth_df.drop(['unknown_insurance_coverage', 'no_insurance'], axis=1, inplace=True)"
   ]
  },
  {
   "cell_type": "code",
   "execution_count": 21,
   "id": "c6a90ebb-8fbf-4cd6-b123-7ee8c44ec7e5",
   "metadata": {},
   "outputs": [
    {
     "name": "stdout",
     "output_type": "stream",
     "text": [
      "Categorical Columns:\n",
      "Index(['program_category', 'region_served', 'age_group', 'sex', 'transgender',\n",
      "       'Sexual Orientation', 'hispanic_ethnicity', 'race', 'living_situation',\n",
      "       'preferred_language', 'veteran_status', 'employment_status',\n",
      "       'education_status', 'special_education_services', 'mental_illness',\n",
      "       'intellectual_disability', 'autism_spectrum',\n",
      "       'other_developmental_disability', 'alcohol_related_disorder',\n",
      "       'drug_substance_disorder', 'mobility_impairment_disorder',\n",
      "       'hearing_visual_impairment', 'hyperlipidemia', 'high_blood_pressure',\n",
      "       'diabetes', 'obesity', 'heart_attack', 'stroke', 'other_cardiac',\n",
      "       'pulmonary_asthma', 'alzheimer_or_dementia', 'kidney_disease',\n",
      "       'liver_disease', 'endocrine_condition', 'neurological_condition',\n",
      "       'traumatic_brain_injury', 'joint_disease', 'cancer',\n",
      "       'other_chronic_med_condition', 'no_chronic_med_condition',\n",
      "       'unknown_chronic_med_condition', 'smokes',\n",
      "       'received_smoking_medication', 'received_smoking_counseling',\n",
      "       'serious_mental_illness', 'principal_diagnosis_class',\n",
      "       'additional_diagnosis_class', 'ssi_cash_assistance',\n",
      "       'ssdi_cash_assistance', 'veterans_disability_benefits',\n",
      "       'veterans_cash_assistance', 'public_assistance_cash_program',\n",
      "       'other_cash_benefits', 'medicaid_and_medicare_insurance',\n",
      "       'medicaid_insurance', 'medicaid_managed_insurance',\n",
      "       'medicare_insurance', 'private_insurance',\n",
      "       'child_health_plus_insurance', 'other_insurance',\n",
      "       'criminal_justice_status'],\n",
      "      dtype='object')\n"
     ]
    }
   ],
   "source": [
    "categorical_cols = mentalhealth_df.select_dtypes(include=['object']).columns\n",
    "print(\"Categorical Columns:\")\n",
    "print(categorical_cols)"
   ]
  },
  {
   "cell_type": "code",
   "execution_count": 24,
   "id": "d0621be6-e225-4f80-babb-aae144a70f86",
   "metadata": {},
   "outputs": [
    {
     "name": "stdout",
     "output_type": "stream",
     "text": [
      "Updated DataFrame after handling 'unknown' values:\n",
      "program_category               0\n",
      "region_served                  0\n",
      "age_group                      0\n",
      "sex                            0\n",
      "transgender                    0\n",
      "                              ..\n",
      "medicare_insurance             0\n",
      "private_insurance              0\n",
      "child_health_plus_insurance    0\n",
      "other_insurance                0\n",
      "criminal_justice_status        0\n",
      "Length: 61, dtype: int64\n"
     ]
    }
   ],
   "source": [
    "for col in categorical_cols:\n",
    "    mentalhealth_df[col] = mentalhealth_df[col].replace('unknown', np.nan)\n",
    "    mentalhealth_df[col] = mentalhealth_df[col].fillna(mentalhealth_df[col].mode()[0])\n",
    "print(\"Updated DataFrame after handling 'unknown' values:\")\n",
    "print(mentalhealth_df[categorical_cols].isnull().sum())"
   ]
  },
  {
   "cell_type": "markdown",
   "id": "24989ebc-219c-42c8-beb0-bea5772c970c",
   "metadata": {},
   "source": [
    "# identifying unique values in the columns"
   ]
  },
  {
   "cell_type": "code",
   "execution_count": 25,
   "id": "872ab6dd-5f87-4400-8e46-a19057752d75",
   "metadata": {},
   "outputs": [
    {
     "name": "stdout",
     "output_type": "stream",
     "text": [
      "Unique values for column 'program_category': ['OUTPATIENT' 'SUPPORT' 'INPATIENT' 'RESIDENTIAL' 'EMERGENCY']\n",
      "Unique values for column 'region_served': ['CENTRAL NY REGION' 'WESTERN REGION' 'NEW YORK CITY REGION'\n",
      " 'LONG ISLAND REGION' 'HUDSON RIVER REGION']\n",
      "Unique values for column 'age_group': ['ADULT' 'CHILD' 'UNKNOWN']\n",
      "Unique values for column 'sex': ['FEMALE' 'MALE' 'UNKNOWN']\n",
      "Unique values for column 'transgender': ['NO, NOT TRANSGENDER' 'YES, TRANSGENDER' 'UNKNOWN' \"CLIENT DIDN'T ANSWER\"]\n",
      "Unique values for column 'Sexual Orientation': ['STRAIGHT OR HETEROSEXUAL' 'UNKNOWN' 'BISEXUAL' 'OTHER' 'LESBIAN OR GAY'\n",
      " 'CLIENT DID NOT ANSWER']\n",
      "Unique values for column 'hispanic_ethnicity': ['NO, NOT HISPANIC/LATINO' 'UNKNOWN' 'YES, HISPANIC/LATINO']\n",
      "Unique values for column 'race': ['WHITE ONLY' 'UNKNOWN RACE' 'BLACK ONLY' 'OTHER' 'MULTI-RACIAL']\n",
      "Unique values for column 'living_situation': ['PRIVATE RESIDENCE' 'OTHER LIVING SITUATION' 'UNKNOWN'\n",
      " 'INSTITUTIONAL SETTING']\n",
      "Unique values for column 'preferred_language': ['ENGLISH' ' ' 'SPANISH' 'INDO-EUROPEAN' 'ALL OTHER LANGUAGES'\n",
      " 'ASIAN AND PACIFIC ISLAND' 'AFRO-ASIATIC' 'UNKNOWN']\n",
      "Unique values for column 'veteran_status': ['NO' 'YES' 'UNKNOWN']\n",
      "Unique values for column 'employment_status': ['NOT IN LABOR FORCE:UNEMPLOYED AND NOT LOOKING FOR WORK'\n",
      " 'UNEMPLOYED, LOOKING FOR WORK' 'EMPLOYED' 'UNKNOWN EMPLOYMENT STATUS'\n",
      " 'NON-PAID/VOLUNTEER']\n",
      "Unique values for column 'education_status': ['MIDDLE SCHOOL TO HIGH SCHOOL' 'SOME COLLEGE' 'UNKNOWN'\n",
      " 'COLLEGE OR GRADUATE DEGREE' 'OTHER' 'PRE-K TO FIFTH GRADE'\n",
      " 'NO FORMAL EDUCATION']\n",
      "Unique values for column 'special_education_services': ['NOT APPLICABLE' 'UNKNOWN' 'NO' 'YES']\n",
      "Unique values for column 'mental_illness': ['YES' 'UNKNOWN' 'NO']\n",
      "Unique values for column 'intellectual_disability': ['NO' 'YES' 'UNKNOWN']\n",
      "Unique values for column 'autism_spectrum': ['NO' 'UNKNOWN' 'YES']\n",
      "Unique values for column 'other_developmental_disability': ['YES' 'UNKNOWN' 'NO']\n",
      "Unique values for column 'alcohol_related_disorder': ['NO' 'UNKNOWN' 'YES']\n",
      "Unique values for column 'drug_substance_disorder': ['NO' 'YES' 'UNKNOWN']\n",
      "Unique values for column 'mobility_impairment_disorder': ['NO' 'YES' 'UNKNOWN']\n",
      "Unique values for column 'hearing_visual_impairment': ['NO' 'YES' 'UNKNOWN']\n",
      "Unique values for column 'hyperlipidemia': ['NO' 'YES' 'UNKNOWN']\n",
      "Unique values for column 'high_blood_pressure': ['NO' 'YES' 'UNKNOWN']\n",
      "Unique values for column 'diabetes': ['NO' 'YES' 'UNKNOWN']\n",
      "Unique values for column 'obesity': ['NO' 'YES' 'UNKNOWN']\n",
      "Unique values for column 'heart_attack': ['NO' 'UNKNOWN' 'YES']\n",
      "Unique values for column 'stroke': ['YES' 'NO' 'UNKNOWN']\n",
      "Unique values for column 'other_cardiac': ['NO' 'UNKNOWN' 'YES']\n",
      "Unique values for column 'pulmonary_asthma': ['YES' 'NO' 'UNKNOWN']\n",
      "Unique values for column 'alzheimer_or_dementia': ['NO' 'UNKNOWN' 'YES']\n",
      "Unique values for column 'kidney_disease': ['NO' 'UNKNOWN' 'YES']\n",
      "Unique values for column 'liver_disease': ['NO' 'UNKNOWN' 'YES']\n",
      "Unique values for column 'endocrine_condition': ['YES' 'NO' 'UNKNOWN']\n",
      "Unique values for column 'neurological_condition': ['YES' 'NO' 'UNKNOWN']\n",
      "Unique values for column 'traumatic_brain_injury': ['NO' 'UNKNOWN' 'YES']\n",
      "Unique values for column 'joint_disease': ['NO' 'YES' 'UNKNOWN']\n",
      "Unique values for column 'cancer': ['NO' 'YES' 'UNKNOWN']\n",
      "Unique values for column 'other_chronic_med_condition': ['NO' 'YES' 'UNKNOWN']\n",
      "Unique values for column 'no_chronic_med_condition': ['NO' 'YES' 'UNKNOWN']\n",
      "Unique values for column 'unknown_chronic_med_condition': ['NO' 'YES']\n",
      "Unique values for column 'smokes': ['NO' 'UNKNOWN' 'YES']\n",
      "Unique values for column 'received_smoking_medication': ['NO' 'UNKNOWN' 'YES']\n",
      "Unique values for column 'received_smoking_counseling': ['NO' 'UNKNOWN' 'YES']\n",
      "Unique values for column 'serious_mental_illness': ['YES' 'NO' 'UNKNOWN']\n",
      "Unique values for column 'principal_diagnosis_class': ['MENTAL ILLNESS' 'NOT MI - ORGANIC MENTAL DISORDER'\n",
      " 'SUBSTANCE-RELATED AND ADDICTIVE DISORDERS' 'NOT MI - OTHER' 'UNKNOWN'\n",
      " 'NOT MI - DEVELOPMENTAL DISORDERS']\n",
      "Unique values for column 'additional_diagnosis_class': ['NOT MI - OTHER' 'UNKNOWN' 'MENTAL ILLNESS'\n",
      " 'SUBSTANCE-RELATED AND ADDICTIVE DISORDERS'\n",
      " 'NOT MI - DEVELOPMENTAL DISORDERS' 'NOT MI - ORGANIC MENTAL DISORDER']\n",
      "Unique values for column 'ssi_cash_assistance': ['YES' 'NO' 'UNKNOWN']\n",
      "Unique values for column 'ssdi_cash_assistance': ['YES' 'UNKNOWN' 'NO']\n",
      "Unique values for column 'veterans_disability_benefits': ['NO' 'UNKNOWN' 'YES']\n",
      "Unique values for column 'veterans_cash_assistance': ['NO' 'UNKNOWN' 'YES']\n",
      "Unique values for column 'public_assistance_cash_program': ['YES' 'UNKNOWN' 'NO']\n",
      "Unique values for column 'other_cash_benefits': ['UNKNOWN' 'YES' 'NO']\n",
      "Unique values for column 'medicaid_and_medicare_insurance': ['NO' 'YES' 'UNKNOWN']\n",
      "Unique values for column 'medicaid_insurance': ['YES' 'NO' 'UNKNOWN']\n",
      "Unique values for column 'medicaid_managed_insurance': ['YES' 'UNKNOWN' 'NO' 'NOT APPLICABLE']\n",
      "Unique values for column 'medicare_insurance': ['NO' 'YES' 'UNKNOWN']\n",
      "Unique values for column 'private_insurance': ['NO' 'UNKNOWN' 'YES']\n",
      "Unique values for column 'child_health_plus_insurance': ['NO' 'UNKNOWN' 'YES']\n",
      "Unique values for column 'other_insurance': ['NO' 'UNKNOWN' 'YES']\n",
      "Unique values for column 'criminal_justice_status': ['NO' 'UNKNOWN' 'YES']\n"
     ]
    }
   ],
   "source": [
    "for col in mentalhealth_df.select_dtypes(include=['object']).columns:\n",
    "    unique_values = mentalhealth_df[col].unique()\n",
    "    print(f\"Unique values for column '{col}': {unique_values}\")"
   ]
  },
  {
   "cell_type": "markdown",
   "id": "c22fae02-b2d1-48b7-a8b2-9992f5d4c435",
   "metadata": {},
   "source": [
    "# One hot encoding"
   ]
  },
  {
   "cell_type": "code",
   "execution_count": 26,
   "id": "571e14cd-6338-4373-8ca9-bc498479cb27",
   "metadata": {},
   "outputs": [
    {
     "name": "stdout",
     "output_type": "stream",
     "text": [
      "   survey_year  number_of_hours_worked_each_week  program_category_INPATIENT  \\\n",
      "0         2017                               NaN                       False   \n",
      "1         2017                               NaN                       False   \n",
      "2         2017                               NaN                       False   \n",
      "3         2017                               NaN                       False   \n",
      "4         2017                               NaN                       False   \n",
      "\n",
      "   program_category_OUTPATIENT  program_category_RESIDENTIAL  \\\n",
      "0                         True                         False   \n",
      "1                        False                         False   \n",
      "2                         True                         False   \n",
      "3                         True                         False   \n",
      "4                         True                         False   \n",
      "\n",
      "   program_category_SUPPORT  region_served_HUDSON RIVER REGION  \\\n",
      "0                     False                              False   \n",
      "1                      True                              False   \n",
      "2                     False                              False   \n",
      "3                     False                              False   \n",
      "4                     False                              False   \n",
      "\n",
      "   region_served_LONG ISLAND REGION  region_served_NEW YORK CITY REGION  \\\n",
      "0                             False                               False   \n",
      "1                             False                               False   \n",
      "2                             False                               False   \n",
      "3                             False                                True   \n",
      "4                             False                               False   \n",
      "\n",
      "   region_served_WESTERN REGION  ...  other_cash_benefits_YES  \\\n",
      "0                         False  ...                    False   \n",
      "1                          True  ...                     True   \n",
      "2                         False  ...                    False   \n",
      "3                         False  ...                    False   \n",
      "4                         False  ...                    False   \n",
      "\n",
      "   medicaid_and_medicare_insurance_YES  medicaid_insurance_YES  \\\n",
      "0                                False                    True   \n",
      "1                                 True                    True   \n",
      "2                                False                    True   \n",
      "3                                 True                    True   \n",
      "4                                False                   False   \n",
      "\n",
      "   medicaid_managed_insurance_NOT APPLICABLE  medicaid_managed_insurance_YES  \\\n",
      "0                                      False                            True   \n",
      "1                                      False                           False   \n",
      "2                                      False                           False   \n",
      "3                                      False                           False   \n",
      "4                                       True                           False   \n",
      "\n",
      "   medicare_insurance_YES  private_insurance_YES  \\\n",
      "0                   False                  False   \n",
      "1                    True                  False   \n",
      "2                   False                  False   \n",
      "3                    True                  False   \n",
      "4                   False                  False   \n",
      "\n",
      "   child_health_plus_insurance_YES  other_insurance_YES  \\\n",
      "0                            False                False   \n",
      "1                            False                False   \n",
      "2                            False                False   \n",
      "3                            False                False   \n",
      "4                            False                False   \n",
      "\n",
      "   criminal_justice_status_YES  \n",
      "0                        False  \n",
      "1                        False  \n",
      "2                        False  \n",
      "3                        False  \n",
      "4                        False  \n",
      "\n",
      "[5 rows x 97 columns]\n"
     ]
    }
   ],
   "source": [
    "mentalhealth_df.replace(\"UNKNOWN\", pd.NA, inplace=True)\n",
    "categorical_columns = [\n",
    "    'program_category', 'region_served', 'age_group', 'sex', 'transgender',\n",
    "    'Sexual Orientation', 'hispanic_ethnicity', 'race', 'living_situation',\n",
    "    'preferred_language', 'veteran_status', 'employment_status',\n",
    "    'education_status', 'special_education_services', 'mental_illness',\n",
    "    'intellectual_disability', 'autism_spectrum', 'other_developmental_disability',\n",
    "    'alcohol_related_disorder', 'drug_substance_disorder', \n",
    "    'mobility_impairment_disorder', 'hearing_visual_impairment',\n",
    "    'hyperlipidemia', 'high_blood_pressure', 'diabetes', 'obesity',\n",
    "    'heart_attack', 'stroke', 'other_cardiac', 'pulmonary_asthma',\n",
    "    'alzheimer_or_dementia', 'kidney_disease', 'liver_disease',\n",
    "    'endocrine_condition', 'neurological_condition', 'traumatic_brain_injury',\n",
    "    'joint_disease', 'cancer', 'other_chronic_med_condition',\n",
    "    'no_chronic_med_condition', 'unknown_chronic_med_condition', 'smokes',\n",
    "    'received_smoking_medication', 'received_smoking_counseling',\n",
    "    'serious_mental_illness', 'principal_diagnosis_class',\n",
    "    'additional_diagnosis_class', 'ssi_cash_assistance',\n",
    "    'ssdi_cash_assistance', 'veterans_disability_benefits',\n",
    "    'veterans_cash_assistance', 'public_assistance_cash_program',\n",
    "    'other_cash_benefits', 'medicaid_and_medicare_insurance',\n",
    "    'medicaid_insurance', 'medicaid_managed_insurance', \n",
    "    'medicare_insurance', 'private_insurance',\n",
    "    'child_health_plus_insurance', 'other_insurance', \n",
    "    'criminal_justice_status'\n",
    "]\n",
    "mentalhealth_encoded = pd.get_dummies(mentalhealth_df, columns=categorical_columns, drop_first=True)\n",
    "print(mentalhealth_encoded.head())"
   ]
  },
  {
   "cell_type": "markdown",
   "id": "ef6c4e05-dc22-4b50-92fe-c548110a5e4f",
   "metadata": {},
   "source": [
    "# Binary encoding"
   ]
  },
  {
   "cell_type": "code",
   "execution_count": 27,
   "id": "89feda45-930c-466d-a76e-11c2e89800db",
   "metadata": {},
   "outputs": [
    {
     "name": "stdout",
     "output_type": "stream",
     "text": [
      "Defaulting to user installation because normal site-packages is not writeable\n",
      "Collecting category_encoders\n",
      "  Downloading category_encoders-2.6.3-py2.py3-none-any.whl (81 kB)\n",
      "\u001b[2K     \u001b[38;2;114;156;31m━━━━━━━━━━━━━━━━━━━━━━━━━━━━━━━━━━━━━━━\u001b[0m \u001b[32m81.9/81.9 KB\u001b[0m \u001b[31m356.9 kB/s\u001b[0m eta \u001b[36m0:00:00\u001b[0mm eta \u001b[36m-:--:--\u001b[0m\n",
      "\u001b[?25hRequirement already satisfied: pandas>=1.0.5 in ./.local/lib/python3.10/site-packages (from category_encoders) (2.2.2)\n",
      "Requirement already satisfied: scipy>=1.0.0 in ./.local/lib/python3.10/site-packages (from category_encoders) (1.14.1)\n",
      "Requirement already satisfied: scikit-learn>=0.20.0 in ./.local/lib/python3.10/site-packages (from category_encoders) (1.5.1)\n",
      "Collecting patsy>=0.5.1\n",
      "  Downloading patsy-0.5.6-py2.py3-none-any.whl (233 kB)\n",
      "\u001b[2K     \u001b[38;2;114;156;31m━━━━━━━━━━━━━━━━━━━━━━━━━━━━━━━━━━━━━\u001b[0m \u001b[32m233.9/233.9 KB\u001b[0m \u001b[31m351.9 kB/s\u001b[0m eta \u001b[36m0:00:00\u001b[0m kB/s\u001b[0m eta \u001b[36m0:00:01\u001b[0m:01\u001b[0m\n",
      "\u001b[?25hRequirement already satisfied: numpy>=1.14.0 in ./.local/lib/python3.10/site-packages (from category_encoders) (1.26.4)\n",
      "Collecting statsmodels>=0.9.0\n",
      "  Downloading statsmodels-0.14.2-cp310-cp310-manylinux_2_17_x86_64.manylinux2014_x86_64.whl (10.8 MB)\n",
      "\u001b[2K     \u001b[38;2;114;156;31m━━━━━━━━━━━━━━━━━━━━━━━━━━━━━━━━━━━━━━━\u001b[0m \u001b[32m10.8/10.8 MB\u001b[0m \u001b[31m398.1 kB/s\u001b[0m eta \u001b[36m0:00:00\u001b[0mm eta \u001b[36m0:00:01\u001b[0m[36m0:00:01\u001b[0m\n",
      "\u001b[?25hRequirement already satisfied: pytz>=2020.1 in /usr/lib/python3/dist-packages (from pandas>=1.0.5->category_encoders) (2022.1)\n",
      "Requirement already satisfied: tzdata>=2022.7 in ./.local/lib/python3.10/site-packages (from pandas>=1.0.5->category_encoders) (2024.1)\n",
      "Requirement already satisfied: python-dateutil>=2.8.2 in ./.local/lib/python3.10/site-packages (from pandas>=1.0.5->category_encoders) (2.9.0.post0)\n",
      "Requirement already satisfied: six in /usr/lib/python3/dist-packages (from patsy>=0.5.1->category_encoders) (1.16.0)\n",
      "Requirement already satisfied: threadpoolctl>=3.1.0 in ./.local/lib/python3.10/site-packages (from scikit-learn>=0.20.0->category_encoders) (3.5.0)\n",
      "Requirement already satisfied: joblib>=1.2.0 in ./.local/lib/python3.10/site-packages (from scikit-learn>=0.20.0->category_encoders) (1.4.2)\n",
      "Requirement already satisfied: packaging>=21.3 in ./.local/lib/python3.10/site-packages (from statsmodels>=0.9.0->category_encoders) (24.0)\n",
      "Installing collected packages: patsy, statsmodels, category_encoders\n",
      "Successfully installed category_encoders-2.6.3 patsy-0.5.6 statsmodels-0.14.2\n",
      "Note: you may need to restart the kernel to use updated packages.\n"
     ]
    }
   ],
   "source": [
    "pip install category_encoders"
   ]
  },
  {
   "cell_type": "code",
   "execution_count": 28,
   "id": "9c5f597d-731d-4047-99f7-e12ab33ab21e",
   "metadata": {},
   "outputs": [],
   "source": [
    "import category_encoders as ce"
   ]
  },
  {
   "cell_type": "code",
   "execution_count": 29,
   "id": "f6c96fa1-bb04-4e20-b746-012a55b7660a",
   "metadata": {},
   "outputs": [],
   "source": [
    "data = {\n",
    "    'program_category': ['OUTPATIENT', 'SUPPORT', 'INPATIENT', 'RESIDENTIAL', 'EMERGENCY'],\n",
    "    'region_served': ['CENTRAL NY REGION', 'WESTERN REGION', 'NEW YORK CITY REGION', 'LONG ISLAND REGION', 'HUDSON RIVER REGION']\n",
    "}\n",
    "mentalhealth_df = pd.DataFrame(data)"
   ]
  },
  {
   "cell_type": "code",
   "execution_count": 32,
   "id": "8dc1f413-6a0d-4aad-ad07-33e0f2c7242d",
   "metadata": {},
   "outputs": [
    {
     "name": "stdout",
     "output_type": "stream",
     "text": [
      "   program_category_0  program_category_1  program_category_2  \\\n",
      "0                   0                   0                   1   \n",
      "1                   0                   1                   0   \n",
      "2                   0                   1                   1   \n",
      "3                   1                   0                   0   \n",
      "4                   1                   0                   1   \n",
      "\n",
      "   region_served_0  region_served_1  region_served_2  \n",
      "0                0                0                1  \n",
      "1                0                1                0  \n",
      "2                0                1                1  \n",
      "3                1                0                0  \n",
      "4                1                0                1  \n"
     ]
    }
   ],
   "source": [
    "encoder = ce.BinaryEncoder(cols=['program_category', 'region_served'])\n",
    "mentalhealth_df_encoded = encoder.fit_transform(mentalhealth_df)\n",
    "print(mentalhealth_df_encoded)"
   ]
  },
  {
   "cell_type": "markdown",
   "id": "1f9b02f1-4645-4ede-8502-ca0e8fb7567b",
   "metadata": {},
   "source": [
    "# Reduce Cardinality"
   ]
  },
  {
   "cell_type": "markdown",
   "id": "46eb19f7-d7eb-4126-9137-31cbfe341c4d",
   "metadata": {},
   "source": [
    "# Identifying Categorical Features with High Cardinality"
   ]
  },
  {
   "cell_type": "code",
   "execution_count": 43,
   "id": "dbbc7241-ed13-42c2-a327-2b09bc4ea7c3",
   "metadata": {},
   "outputs": [
    {
     "name": "stdout",
     "output_type": "stream",
     "text": [
      "{'program_category': 5, 'region_served': 5}\n"
     ]
    }
   ],
   "source": [
    "threshold = 4\n",
    "categorical_cols = mentalhealth_df.select_dtypes(include=['object']).columns\n",
    "cardinality = {col: mentalhealth_df[col].nunique() for col in categorical_cols}\n",
    "high_cardinality_cols = {col: count for col, count in cardinality.items() if count > threshold}\n",
    "print(high_cardinality_cols)"
   ]
  },
  {
   "cell_type": "markdown",
   "id": "608a24a7-015d-4ab3-8d97-2bc367b426e4",
   "metadata": {},
   "source": [
    "# Grouping Rare Categories"
   ]
  },
  {
   "cell_type": "code",
   "execution_count": 44,
   "id": "df480d89-d81c-40f7-8f5d-ed756f468c98",
   "metadata": {},
   "outputs": [],
   "source": [
    "threshold_count = 3 \n",
    "counts = mentalhealth_df['program_category'].value_counts()\n",
    "rare_categories = counts[counts < threshold_count].index\n",
    "mentalhealth_df['program_category'] = mentalhealth_df['program_category'].replace(rare_categories, 'Other')"
   ]
  },
  {
   "cell_type": "markdown",
   "id": "0f79f479-f560-426b-9196-56855a4d7eb4",
   "metadata": {},
   "source": [
    "# Feature Binning"
   ]
  },
  {
   "cell_type": "code",
   "execution_count": 45,
   "id": "270a84a8-aa2f-4710-b5be-1ef81bc8b761",
   "metadata": {},
   "outputs": [],
   "source": [
    "mentalhealth_df['region_served'] = mentalhealth_df['region_served'].replace({\n",
    "    'HUDSON RIVER REGION': 'Northeast',\n",
    "    'LONG ISLAND REGION': 'Northeast',\n",
    "    'NEW YORK CITY REGION': 'Northeast',\n",
    "    'WESTERN REGION': 'West'\n",
    "})"
   ]
  },
  {
   "cell_type": "markdown",
   "id": "0e409f97-6a43-4c4d-855a-e5796bc46d75",
   "metadata": {},
   "source": [
    "# Check the unique value counts after cardinality reduction"
   ]
  },
  {
   "cell_type": "code",
   "execution_count": 46,
   "id": "2dea6ff4-e5ab-4443-860a-790bfafacb4c",
   "metadata": {},
   "outputs": [
    {
     "name": "stdout",
     "output_type": "stream",
     "text": [
      "program_category\n",
      "Other    5\n",
      "Name: count, dtype: int64\n",
      "region_served\n",
      "Northeast            3\n",
      "CENTRAL NY REGION    1\n",
      "West                 1\n",
      "Name: count, dtype: int64\n"
     ]
    }
   ],
   "source": [
    "print(mentalhealth_df['program_category'].value_counts())\n",
    "print(mentalhealth_df['region_served'].value_counts())"
   ]
  },
  {
   "cell_type": "markdown",
   "id": "95bcfff3-4b31-45f4-b351-c0c2b819bb68",
   "metadata": {},
   "source": [
    "# Creating New Features"
   ]
  },
  {
   "cell_type": "markdown",
   "id": "37342be8-c8f9-4cbc-aa0b-f78633e0998d",
   "metadata": {},
   "source": [
    "# Combining Categories"
   ]
  },
  {
   "cell_type": "code",
   "execution_count": 47,
   "id": "34a460df-38ca-4d94-85e6-ee12c65b4c50",
   "metadata": {},
   "outputs": [
    {
     "name": "stdout",
     "output_type": "stream",
     "text": [
      "  program_category      region_served           program_region\n",
      "0            Other  CENTRAL NY REGION  Other_CENTRAL NY REGION\n",
      "1            Other               West               Other_West\n",
      "2            Other          Northeast          Other_Northeast\n",
      "3            Other          Northeast          Other_Northeast\n",
      "4            Other          Northeast          Other_Northeast\n"
     ]
    }
   ],
   "source": [
    "mentalhealth_df['program_region'] = mentalhealth_df['program_category'] + '_' + mentalhealth_df['region_served']\n",
    "print(mentalhealth_df[['program_category', 'region_served', 'program_region']].head())"
   ]
  },
  {
   "cell_type": "markdown",
   "id": "18ec0e6f-769c-4418-a062-4d9d47e15767",
   "metadata": {},
   "source": [
    "# Extracting Components"
   ]
  },
  {
   "cell_type": "code",
   "execution_count": 48,
   "id": "b138a1b4-e421-43ab-abc5-aa32541401b5",
   "metadata": {},
   "outputs": [
    {
     "name": "stdout",
     "output_type": "stream",
     "text": [
      "  program_category  is_inpatient\n",
      "0            Other             0\n",
      "1            Other             0\n",
      "2            Other             0\n",
      "3            Other             0\n",
      "4            Other             0\n"
     ]
    }
   ],
   "source": [
    "mentalhealth_df['is_inpatient'] = mentalhealth_df['program_category'].apply(lambda x: 1 if 'INPATIENT' in x else 0)\n",
    "print(mentalhealth_df[['program_category', 'is_inpatient']].head())"
   ]
  },
  {
   "cell_type": "markdown",
   "id": "399254e3-7ce8-4963-a951-4420320f3b8f",
   "metadata": {},
   "source": [
    "# Visualizing Initial Data Distribution"
   ]
  },
  {
   "cell_type": "code",
   "execution_count": 50,
   "id": "244a2e9e-e03a-4a9e-8dfd-e45acd6948af",
   "metadata": {},
   "outputs": [
    {
     "data": {
      "image/png": "[encoded data removed]",
      "text/plain": [
       "<Figure size 1000x500 with 1 Axes>"
      ]
     },
     "metadata": {},
     "output_type": "display_data"
    },
    {
     "data": {
      "image/png": "[encoded data removed]",
      "text/plain": [
       "<Figure size 1000x500 with 1 Axes>"
      ]
     },
     "metadata": {},
     "output_type": "display_data"
    },
    {
     "data": {
      "image/png": "[encoded data removed]",
      "text/plain": [
       "<Figure size 1000x500 with 1 Axes>"
      ]
     },
     "metadata": {},
     "output_type": "display_data"
    }
   ],
   "source": [
    "sns.set(style=\"whitegrid\")\n",
    "categorical_cols = mentalhealth_df.select_dtypes(include=['object']).columns\n",
    "for col in categorical_cols:\n",
    "    plt.figure(figsize=(10, 5))\n",
    "    sns.countplot(data=mentalhealth_df, x=col)\n",
    "    plt.title(f'Distribution of {col}')\n",
    "    plt.xticks(rotation=45)\n",
    "    plt.show()"
   ]
  },
  {
   "cell_type": "markdown",
   "id": "77eef718-62bc-4096-9948-116b483c25fe",
   "metadata": {},
   "source": [
    "# Visualizing High Cardinality Features"
   ]
  },
  {
   "cell_type": "code",
   "execution_count": 51,
   "id": "d4be9a56-4bae-4737-904f-1206cf36fc62",
   "metadata": {},
   "outputs": [
    {
     "data": {
      "image/png": "[encoded data removed]",
      "text/plain": [
       "<Figure size 1000x500 with 1 Axes>"
      ]
     },
     "metadata": {},
     "output_type": "display_data"
    },
    {
     "data": {
      "image/png": "[encoded data removed]",
      "text/plain": [
       "<Figure size 1000x500 with 1 Axes>"
      ]
     },
     "metadata": {},
     "output_type": "display_data"
    }
   ],
   "source": [
    "high_cardinality_cols = ['program_category', 'region_served']\n",
    "for col in high_cardinality_cols:\n",
    "    plt.figure(figsize=(10, 5))\n",
    "    mentalhealth_df[col].value_counts().plot(kind='bar')\n",
    "    plt.title(f'Distribution of {col}')\n",
    "    plt.ylabel('Count')\n",
    "    plt.xticks(rotation=45)\n",
    "    plt.show()"
   ]
  },
  {
   "cell_type": "markdown",
   "id": "919c94cb-524b-454d-9e52-1b15cc420a29",
   "metadata": {},
   "source": [
    "# Visualizing Newly Created Features"
   ]
  },
  {
   "cell_type": "code",
   "execution_count": 53,
   "id": "303ab3df-293d-47d1-be19-96ef5e8ecd84",
   "metadata": {},
   "outputs": [
    {
     "data": {
      "image/png": "[encoded data removed]",
      "text/plain": [
       "<Figure size 1000x500 with 1 Axes>"
      ]
     },
     "metadata": {},
     "output_type": "display_data"
    },
    {
     "data": {
      "image/png": "[encoded data removed]",
      "text/plain": [
       "<Figure size 1000x500 with 1 Axes>"
      ]
     },
     "metadata": {},
     "output_type": "display_data"
    }
   ],
   "source": [
    "plt.figure(figsize=(10, 5))\n",
    "sns.countplot(data=mentalhealth_df, x='is_inpatient')\n",
    "plt.title('Count of Inpatient Programs')\n",
    "plt.xticks(rotation=45)\n",
    "plt.ylabel('Count')\n",
    "plt.show()\n",
    "\n",
    "\n",
    "plt.figure(figsize=(10, 5))\n",
    "sns.countplot(data=mentalhealth_df, x='is_inpatient', hue='region_served')\n",
    "plt.title('Inpatient Programs Count by Region Served')\n",
    "plt.ylabel('Count')\n",
    "plt.legend(title='Region Served', bbox_to_anchor=(1.05, 1), loc='upper left')\n",
    "plt.show()"
   ]
  },
  {
   "cell_type": "markdown",
   "id": "c6ef5855-27ed-4fdc-ac11-153a2242f35d",
   "metadata": {},
   "source": [
    "# Renaming columns"
   ]
  },
  {
   "cell_type": "code",
   "execution_count": 7,
   "id": "4debe39c-32f1-4c17-b9ed-a550e1eb882e",
   "metadata": {},
   "outputs": [],
   "source": [
    "mentalhealth_df.rename(columns={\n",
    "    'Survey Year': 'survey_year',\n",
    "    'Program Category': 'program_category',\n",
    "    'Region Served': 'region_served',\n",
    "    'Age Group': 'age_group',\n",
    "    'Sex': 'sex',\n",
    "    'Transgender': 'transgender',\n",
    "    'Hispanic Ethnicity': 'hispanic_ethnicity',\n",
    "    'Race': 'race',\n",
    "    'Living Situation': 'living_situation',\n",
    "    'Measure ID': 'measure_id',\n",
    "    'Measure Numerator': 'measure_numerator',\n",
    "    'Measure Denominator': 'measure_denominator',\n",
    "    'Measure Scaling Factor': 'measure_scaling_factor',\n",
    "    'Suppression Indicator': 'suppression_indicator',\n",
    "}, inplace=True)"
   ]
  },
  {
   "cell_type": "code",
   "execution_count": 8,
   "id": "1f0765a1-d03d-4be5-855e-33aa1e9263a9",
   "metadata": {},
   "outputs": [
    {
     "name": "stdout",
     "output_type": "stream",
     "text": [
      "<class 'pandas.core.frame.DataFrame'>\n",
      "RangeIndex: 187192 entries, 0 to 187191\n",
      "Data columns (total 66 columns):\n",
      " #   Column                            Non-Null Count   Dtype \n",
      "---  ------                            --------------   ----- \n",
      " 0   survey_year                       187192 non-null  int64 \n",
      " 1   program_category                  187192 non-null  object\n",
      " 2   region_served                     187192 non-null  object\n",
      " 3   age_group                         187192 non-null  object\n",
      " 4   sex                               187192 non-null  object\n",
      " 5   transgender                       187192 non-null  object\n",
      " 6   Sexual Orientation                187192 non-null  object\n",
      " 7   hispanic_ethnicity                187192 non-null  object\n",
      " 8   race                              187192 non-null  object\n",
      " 9   living_situation                  187192 non-null  object\n",
      " 10  Household Composition             187192 non-null  object\n",
      " 11  Preferred Language                187192 non-null  object\n",
      " 12  Veteran Status                    187192 non-null  object\n",
      " 13  Employment Status                 187192 non-null  object\n",
      " 14  Number Of Hours Worked Each Week  187192 non-null  object\n",
      " 15  Education Status                  187192 non-null  object\n",
      " 16  Special Education Services        187192 non-null  object\n",
      " 17  Mental Illness                    187192 non-null  object\n",
      " 18  Intellectual Disability           187192 non-null  object\n",
      " 19  Autism Spectrum                   187192 non-null  object\n",
      " 20  Other Developmental Disability    187192 non-null  object\n",
      " 21  Alcohol Related Disorder          187192 non-null  object\n",
      " 22  Drug Substance Disorder           187192 non-null  object\n",
      " 23  Mobility Impairment Disorder      187192 non-null  object\n",
      " 24  Hearing Visual Impairment         187192 non-null  object\n",
      " 25  Hyperlipidemia                    187192 non-null  object\n",
      " 26  High Blood Pressure               187192 non-null  object\n",
      " 27  Diabetes                          187192 non-null  object\n",
      " 28  Obesity                           187192 non-null  object\n",
      " 29  Heart Attack                      187192 non-null  object\n",
      " 30  Stroke                            187192 non-null  object\n",
      " 31  Other Cardiac                     187192 non-null  object\n",
      " 32  Pulmonary Asthma                  187192 non-null  object\n",
      " 33  Alzheimer or Dementia             187192 non-null  object\n",
      " 34  Kidney Disease                    187192 non-null  object\n",
      " 35  Liver Disease                     187192 non-null  object\n",
      " 36  Endocrine Condition               187192 non-null  object\n",
      " 37  Neurological Condition            187192 non-null  object\n",
      " 38  Traumatic Brain Injury            187192 non-null  object\n",
      " 39  Joint Disease                     187192 non-null  object\n",
      " 40  Cancer                            187192 non-null  object\n",
      " 41  Other Chronic Med Condition       187192 non-null  object\n",
      " 42  No Chronic Med Condition          187192 non-null  object\n",
      " 43  Unknown Chronic Med Condition     187192 non-null  object\n",
      " 44  Smokes                            187192 non-null  object\n",
      " 45  Received Smoking Medication       187192 non-null  object\n",
      " 46  Received Smoking Counseling       187192 non-null  object\n",
      " 47  Serious Mental Illness            187192 non-null  object\n",
      " 48  Principal Diagnosis Class         187192 non-null  object\n",
      " 49  Additional Diagnosis Class        187192 non-null  object\n",
      " 50  SSI Cash Assistance               187192 non-null  object\n",
      " 51  SSDI Cash Assistance              187192 non-null  object\n",
      " 52  Veterans Disability Benefits      187192 non-null  object\n",
      " 53  Veterans Cash Assistance          187192 non-null  object\n",
      " 54  Public Assistance Cash Program    187192 non-null  object\n",
      " 55  Other Cash Benefits               187192 non-null  object\n",
      " 56  Medicaid and Medicare Insurance   187192 non-null  object\n",
      " 57  Unknown Insurance Coverage        187192 non-null  object\n",
      " 58  No Insurance                      187192 non-null  object\n",
      " 59  Medicaid Insurance                187192 non-null  object\n",
      " 60  Medicaid Managed Insurance        187192 non-null  object\n",
      " 61  Medicare Insurance                187192 non-null  object\n",
      " 62  Private Insurance                 187192 non-null  object\n",
      " 63  Child Health Plus Insurance       187192 non-null  object\n",
      " 64  Other Insurance                   187192 non-null  object\n",
      " 65  Criminal Justice Status           187192 non-null  object\n",
      "dtypes: int64(1), object(65)\n",
      "memory usage: 94.3+ MB\n"
     ]
    }
   ],
   "source": [
    "mentalhealth_df.info()"
   ]
  },
  {
   "cell_type": "code",
   "execution_count": 9,
   "id": "96335782-a1c8-46a2-9a0a-da0bd35b19c9",
   "metadata": {},
   "outputs": [
    {
     "name": "stdout",
     "output_type": "stream",
     "text": [
      "<class 'pandas.core.frame.DataFrame'>\n",
      "RangeIndex: 187192 entries, 0 to 187191\n",
      "Data columns (total 66 columns):\n",
      " #   Column                            Non-Null Count   Dtype \n",
      "---  ------                            --------------   ----- \n",
      " 0   survey_year                       187192 non-null  int64 \n",
      " 1   program_category                  187192 non-null  object\n",
      " 2   region_served                     187192 non-null  object\n",
      " 3   age_group                         187192 non-null  object\n",
      " 4   sex                               187192 non-null  object\n",
      " 5   transgender                       187192 non-null  object\n",
      " 6   Sexual Orientation                187192 non-null  object\n",
      " 7   hispanic_ethnicity                187192 non-null  object\n",
      " 8   race                              187192 non-null  object\n",
      " 9   living_situation                  187192 non-null  object\n",
      " 10  household_composition             187192 non-null  object\n",
      " 11  preferred_language                187192 non-null  object\n",
      " 12  veteran_status                    187192 non-null  object\n",
      " 13  employment_status                 187192 non-null  object\n",
      " 14  number_of_hours_worked_each_week  187192 non-null  object\n",
      " 15  education_status                  187192 non-null  object\n",
      " 16  special_education_services        187192 non-null  object\n",
      " 17  mental_illness                    187192 non-null  object\n",
      " 18  intellectual_disability           187192 non-null  object\n",
      " 19  autism_spectrum                   187192 non-null  object\n",
      " 20  other_developmental_disability    187192 non-null  object\n",
      " 21  alcohol_related_disorder          187192 non-null  object\n",
      " 22  drug_substance_disorder           187192 non-null  object\n",
      " 23  mobility_impairment_disorder      187192 non-null  object\n",
      " 24  hearing_visual_impairment         187192 non-null  object\n",
      " 25  hyperlipidemia                    187192 non-null  object\n",
      " 26  high_blood_pressure               187192 non-null  object\n",
      " 27  diabetes                          187192 non-null  object\n",
      " 28  obesity                           187192 non-null  object\n",
      " 29  heart_attack                      187192 non-null  object\n",
      " 30  stroke                            187192 non-null  object\n",
      " 31  other_cardiac                     187192 non-null  object\n",
      " 32  pulmonary_asthma                  187192 non-null  object\n",
      " 33  alzheimer_or_dementia             187192 non-null  object\n",
      " 34  kidney_disease                    187192 non-null  object\n",
      " 35  liver_disease                     187192 non-null  object\n",
      " 36  endocrine_condition               187192 non-null  object\n",
      " 37  neurological_condition            187192 non-null  object\n",
      " 38  traumatic_brain_injury            187192 non-null  object\n",
      " 39  joint_disease                     187192 non-null  object\n",
      " 40  cancer                            187192 non-null  object\n",
      " 41  other_chronic_med_condition       187192 non-null  object\n",
      " 42  no_chronic_med_condition          187192 non-null  object\n",
      " 43  unknown_chronic_med_condition     187192 non-null  object\n",
      " 44  smokes                            187192 non-null  object\n",
      " 45  received_smoking_medication       187192 non-null  object\n",
      " 46  received_smoking_counseling       187192 non-null  object\n",
      " 47  serious_mental_illness            187192 non-null  object\n",
      " 48  principal_diagnosis_class         187192 non-null  object\n",
      " 49  additional_diagnosis_class        187192 non-null  object\n",
      " 50  ssi_cash_assistance               187192 non-null  object\n",
      " 51  ssdi_cash_assistance              187192 non-null  object\n",
      " 52  veterans_disability_benefits      187192 non-null  object\n",
      " 53  veterans_cash_assistance          187192 non-null  object\n",
      " 54  public_assistance_cash_program    187192 non-null  object\n",
      " 55  other_cash_benefits               187192 non-null  object\n",
      " 56  medicaid_and_medicare_insurance   187192 non-null  object\n",
      " 57  unknown_insurance_coverage        187192 non-null  object\n",
      " 58  no_insurance                      187192 non-null  object\n",
      " 59  medicaid_insurance                187192 non-null  object\n",
      " 60  medicaid_managed_insurance        187192 non-null  object\n",
      " 61  medicare_insurance                187192 non-null  object\n",
      " 62  private_insurance                 187192 non-null  object\n",
      " 63  child_health_plus_insurance       187192 non-null  object\n",
      " 64  other_insurance                   187192 non-null  object\n",
      " 65  criminal_justice_status           187192 non-null  object\n",
      "dtypes: int64(1), object(65)\n",
      "memory usage: 94.3+ MB\n"
     ]
    }
   ],
   "source": [
    "mentalhealth_df.rename(columns={\n",
    "    'Household Composition': 'household_composition',\n",
    "    'Preferred Language': 'preferred_language',\n",
    "    'Veteran Status': 'veteran_status',\n",
    "    'Employment Status': 'employment_status',\n",
    "    'Number Of Hours Worked Each Week': 'number_of_hours_worked_each_week',\n",
    "    'Education Status': 'education_status',\n",
    "    'Special Education Services': 'special_education_services',\n",
    "    'Mental Illness': 'mental_illness',\n",
    "    'Intellectual Disability': 'intellectual_disability',\n",
    "    'Autism Spectrum': 'autism_spectrum',\n",
    "    'Other Developmental Disability': 'other_developmental_disability',\n",
    "    'Alcohol Related Disorder': 'alcohol_related_disorder',\n",
    "    'Drug Substance Disorder': 'drug_substance_disorder',\n",
    "    'Mobility Impairment Disorder': 'mobility_impairment_disorder',\n",
    "    'Hearing Visual Impairment': 'hearing_visual_impairment',\n",
    "    'Hyperlipidemia': 'hyperlipidemia',\n",
    "    'High Blood Pressure': 'high_blood_pressure',\n",
    "    'Diabetes': 'diabetes',\n",
    "    'Obesity': 'obesity',\n",
    "    'Heart Attack': 'heart_attack',\n",
    "    'Stroke': 'stroke',\n",
    "    'Other Cardiac': 'other_cardiac',\n",
    "    'Pulmonary Asthma': 'pulmonary_asthma',\n",
    "    'Alzheimer or Dementia': 'alzheimer_or_dementia',\n",
    "    'Kidney Disease': 'kidney_disease',\n",
    "    'Liver Disease': 'liver_disease',\n",
    "    'Endocrine Condition': 'endocrine_condition',\n",
    "    'Neurological Condition': 'neurological_condition',\n",
    "    'Traumatic Brain Injury': 'traumatic_brain_injury',\n",
    "    'Joint Disease': 'joint_disease',\n",
    "    'Cancer': 'cancer',\n",
    "    'Other Chronic Med Condition': 'other_chronic_med_condition',\n",
    "    'No Chronic Med Condition': 'no_chronic_med_condition',\n",
    "    'Unknown Chronic Med Condition': 'unknown_chronic_med_condition',\n",
    "    'Smokes': 'smokes',\n",
    "    'Received Smoking Medication': 'received_smoking_medication',\n",
    "    'Received Smoking Counseling': 'received_smoking_counseling',\n",
    "    'Serious Mental Illness': 'serious_mental_illness',\n",
    "    'Principal Diagnosis Class': 'principal_diagnosis_class',\n",
    "    'Additional Diagnosis Class': 'additional_diagnosis_class',\n",
    "    'SSI Cash Assistance': 'ssi_cash_assistance',\n",
    "    'SSDI Cash Assistance': 'ssdi_cash_assistance',\n",
    "    'Veterans Disability Benefits': 'veterans_disability_benefits',\n",
    "    'Veterans Cash Assistance': 'veterans_cash_assistance',\n",
    "    'Public Assistance Cash Program': 'public_assistance_cash_program',\n",
    "    'Other Cash Benefits': 'other_cash_benefits',\n",
    "    'Medicaid and Medicare Insurance': 'medicaid_and_medicare_insurance',\n",
    "    'Unknown Insurance Coverage': 'unknown_insurance_coverage',\n",
    "    'No Insurance': 'no_insurance',\n",
    "    'Medicaid Insurance': 'medicaid_insurance',\n",
    "    'Medicaid Managed Insurance': 'medicaid_managed_insurance',\n",
    "    'Medicare Insurance': 'medicare_insurance',\n",
    "    'Private Insurance': 'private_insurance',\n",
    "    'Child Health Plus Insurance': 'child_health_plus_insurance',\n",
    "    'Other Insurance': 'other_insurance',\n",
    "    'Criminal Justice Status': 'criminal_justice_status',\n",
    "}, inplace=True)\n",
    "mentalhealth_df.info()"
   ]
  }
 ],
 "metadata": {
  "kernelspec": {
   "display_name": "Python 3 (ipykernel)",
   "language": "python",
   "name": "python3"
  },
  "language_info": {
   "codemirror_mode": {
    "name": "ipython",
    "version": 3
   },
   "file_extension": ".py",
   "mimetype": "text/x-python",
   "name": "python",
   "nbconvert_exporter": "python",
   "pygments_lexer": "ipython3",
   "version": "3.10.12"
  }
 },
 "nbformat": 4,
 "nbformat_minor": 5
}
